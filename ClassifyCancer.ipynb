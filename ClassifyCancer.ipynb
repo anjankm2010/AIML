﻿{
 "cells": [
  {
   "cell_type": "code",
   "execution_count": 1,
   "metadata": {},
   "outputs": [
    {
     "name": "stderr",
     "output_type": "stream",
     "text": [
      "Using TensorFlow backend.\n"
     ]
    }
   ],
   "source": [
    "import os\n",
    "import h5py\n",
    "import numpy as np\n",
    "from matplotlib import image\n",
    "import matplotlib.pyplot as plot\n",
    "import numpy as np\n",
    "import json\n",
    "import io\n",
    "import unicodecsv as csv\n",
    "import tensorflow as tf\n",
    "#import PIL\n",
    "#from PIL import Image\n",
    "#print('Pillow Version:', PIL.__version__)\n",
    "\n",
    "import numpy as np\n",
    "from tensorflow.keras import layers\n",
    "from tensorflow.keras.layers import Input, Add, Dense, Activation, ZeroPadding2D, BatchNormalization, Flatten, Conv2D, AveragePooling2D, MaxPooling2D, GlobalMaxPooling2D\n",
    "from tensorflow.keras.models import Model, load_model\n",
    "from tensorflow.keras.preprocessing import image\n",
    "from keras.utils import layer_utils\n",
    "from keras.utils.data_utils import get_file\n",
    "from tensorflow.keras.applications.imagenet_utils import preprocess_input\n",
    "import pydot\n",
    "from IPython.display import SVG\n",
    "from keras.utils.vis_utils import model_to_dot\n",
    "from tensorflow.keras.utils import plot_model\n",
    "#from resnets_utils import *\n",
    "from tensorflow.keras.initializers import glorot_uniform\n",
    "import scipy.misc\n",
    "from matplotlib.pyplot import imshow\n",
    "%matplotlib inline\n",
    "\n",
    "import tensorflow.keras.backend as K\n",
    "K.set_image_data_format('channels_last')\n",
    "K.set_learning_phase(1)\n"
   ]
  },
  {
   "cell_type": "code",
   "execution_count": 2,
   "metadata": {},
   "outputs": [],
   "source": [
    "hparams = {\n",
    "    \"goal\": \"MAXIMIZE\",\n",
    "    \"maxTrials\":30,\n",
    "    \"maxParallelTrials\":2,\n",
    "    \"hyperparameterMetricTag\": \"accuracy\",\n",
    "    \"train_batch_size\":2,\n",
    "    \"learning_rate\":0.001,\n",
    "    \"train_steps\":10000,\n",
    "    \"batch_norm\":\"True\",\n",
    "    \"ksize1\":5,\n",
    "    \"ksize2\":5,\n",
    "    \"nfil1\":10,\n",
    "    \"nfil2\":20,\n",
    "    \"dprob\":0.25\n",
    "}"
   ]
  },
  {
   "cell_type": "code",
   "execution_count": 3,
   "metadata": {},
   "outputs": [
    {
     "name": "stdout",
     "output_type": "stream",
     "text": [
      "MAXIMIZE\n",
      "30\n",
      "2\n",
      "accuracy\n",
      "2\n",
      "0.001\n",
      "10000\n",
      "True\n",
      "5\n",
      "5\n",
      "10\n",
      "20\n",
      "0.25\n"
     ]
    }
   ],
   "source": [
    "print(hparams.get(\"goal\", 5))\n",
    "print(hparams.get(\"maxTrials\", 5))\n",
    "print(hparams.get(\"maxParallelTrials\", 5))\n",
    "print(hparams.get(\"hyperparameterMetricTag\", 5))\n",
    "print(hparams.get(\"train_batch_size\", 2))\n",
    "print(hparams.get(\"learning_rate\", 5))\n",
    "print(hparams.get(\"train_steps\", 5))\n",
    "print(hparams.get(\"batch_norm\", 5))\n",
    "print(hparams.get(\"ksize1\", 5))\n",
    "print(hparams.get(\"ksize2\", 5))\n",
    "print(hparams.get(\"nfil1\", 5))\n",
    "print(hparams.get(\"nfil2\", 5))\n",
    "print(hparams.get(\"dprob\", 5))"
   ]
  },
  {
   "cell_type": "code",
   "execution_count": 4,
   "metadata": {},
   "outputs": [
    {
     "name": "stdout",
     "output_type": "stream",
     "text": [
      ".\\Kaigenicsproj001\\etrain\n",
      ".\\kaigenicsproj001\\eval\n"
     ]
    }
   ],
   "source": [
    "traindirpath = \".\\Kaigenicsproj001\\etrain\"\n",
    "evaldirpath = \".\\kaigenicsproj001\\eval\"\n",
    "outputdirpath = \".\\outputdir\"\n",
    "trainfilecount = 0\n",
    "trainfilenames = []\n",
    "evalfilecount = 0\n",
    "evalfilenames = []\n",
    "trainmaxpoints = []\n",
    "trainmaxpoint = 0\n",
    "evalmaxpoints = []\n",
    "evalmaxpoint = 0\n",
    "trainimagelist = []\n",
    "trainlabellist = []\n",
    "trainborderpointslist = []\n",
    "evalimagelist = []\n",
    "evallabellist = []\n",
    "evalborderpointslist = []\n",
    "print(traindirpath)\n",
    "print(evaldirpath)\n",
    "\n",
    "HEIGHT = 512\n",
    "WIDTH = 512\n",
    "NCLASSES = 3\n"
   ]
  },
  {
   "cell_type": "code",
   "execution_count": 5,
   "metadata": {},
   "outputs": [],
   "source": [
    "def process_train_matfile(index,filename):\n",
    "    \"\"\"\n",
    "    this will take a file and extract the image\n",
    "    \"\"\"\n",
    "    \n",
    "    keys = []\n",
    "    with h5py.File(traindirpath +\"\\\\\" + filename, 'r') as f: # open file\n",
    "        f.visit(keys.append) # append all keys to list\n",
    "        print(filename)\n",
    "        #print(keys)\n",
    "        #Y1 = f.get('cjdata/PID') \n",
    "        Y2 = f.get('cjdata/image') \n",
    "        Y3 = f.get('cjdata/label')\n",
    "        Y4 = f.get('cjdata/tumorBorder')\n",
    "\n",
    "        #Y5 = f.get('cjdata/tumorMask')\n",
    "        #X1 = np.array(Y1)\n",
    "        X2 = np.array(Y2)\n",
    "        X3 = np.array(Y3)\n",
    "        #print(filename)\n",
    "        #print(X3)\n",
    "        X4 = np.array(Y4)\n",
    "\n",
    "        #X5 = np.array(Y5)\n",
    "        #print(X1)\n",
    "        #print(X2) \n",
    "        #print(X3)\n",
    "        #numberofpoints= Y4.shape[1]\n",
    "        trainmaxpoints.append(X4.shape[1])\n",
    "        trainimagelist.append(X2)\n",
    "        trainlabellist.append(X3)\n",
    "        trainborderpointslist.append(X4)\n",
    "        \n",
    "    return 1    \n"
   ]
  },
  {
   "cell_type": "code",
   "execution_count": 6,
   "metadata": {},
   "outputs": [],
   "source": [
    "def process_eval_matfile(index,filename):\n",
    "    \"\"\"\n",
    "    this will take a file and extract the image\n",
    "    \"\"\"\n",
    "    \n",
    "    keys = []\n",
    "    with h5py.File(evaldirpath +\"\\\\\" + filename, 'r') as f: # open file\n",
    "        f.visit(keys.append) # append all keys to list\n",
    "        print(filename)\n",
    "        #print(keys)\n",
    "        #Y1 = f.get('cjdata/PID') \n",
    "        Y2 = f.get('cjdata/image') \n",
    "        Y3 = f.get('cjdata/label')\n",
    "        Y4 = f.get('cjdata/tumorBorder')\n",
    "\n",
    "        #Y5 = f.get('cjdata/tumorMask')\n",
    "        #X1 = np.array(Y1)\n",
    "        X2 = np.array(Y2)\n",
    "        X3 = np.array(Y3)\n",
    "        #print(filename)\n",
    "        #print(X3)\n",
    "        X4 = np.array(Y4)\n",
    "\n",
    "        #X5 = np.array(Y5)\n",
    "        #print(X1)\n",
    "        #print(X2) \n",
    "        #print(X3)\n",
    "        #numberofpoints= Y4.shape[1]\n",
    "        evalmaxpoints.append(X4.shape[1])\n",
    "        evalimagelist.append(X2)\n",
    "        evallabellist.append(X3)\n",
    "        evalborderpointslist.append(X4)\n",
    "        \n",
    "    return 1    "
   ]
  },
  {
   "cell_type": "code",
   "execution_count": 7,
   "metadata": {},
   "outputs": [
    {
     "name": "stdout",
     "output_type": "stream",
     "text": [
      ".\\Kaigenicsproj001\\etrain\n",
      "1301.mat\n",
      "1302.mat\n",
      "1911.mat\n",
      "1912.mat\n",
      "1913.mat\n",
      "1914.mat\n",
      "1915.mat\n",
      "1916.mat\n",
      "2.mat\n",
      "3.mat\n",
      "4.mat\n",
      "731.mat\n"
     ]
    },
    {
     "name": "stderr",
     "output_type": "stream",
     "text": [
      "C:\\Anaconda3\\envs\\tf\\lib\\site-packages\\ipykernel_launcher.py:11: MatplotlibDeprecationWarning: \n",
      "The 'normed' kwarg was deprecated in Matplotlib 2.1 and will be removed in 3.1. Use 'density' instead.\n",
      "  # This is added back by InteractiveShellApp.init_path()\n"
     ]
    },
    {
     "name": "stdout",
     "output_type": "stream",
     "text": [
      "[30, 28, 22, 44, 46, 26, 36, 38, 64, 58, 62, 134]\n"
     ]
    },
    {
     "data": {
      "image/png": "[encoded data removed]",
      "text/plain": [
       "<Figure size 432x288 with 1 Axes>"
      ]
     },
     "metadata": {
      "needs_background": "light"
     },
     "output_type": "display_data"
    }
   ],
   "source": [
    "print(traindirpath)\n",
    "for root, dirs, files in os.walk(traindirpath):\n",
    "    for filename in files:\n",
    "            trainfilecount+=1\n",
    "            trainfilenames.append(filename)\n",
    "            \n",
    "for i in range(trainfilecount):\n",
    "    process_train_matfile(i,trainfilenames[i])\n",
    "\n",
    "%matplotlib inline\n",
    "plot.hist(trainmaxpoints, normed=True, bins=30)\n",
    "plot.ylabel('maxpoints');\n",
    "print(trainmaxpoints)\n",
    "\n",
    "    \n"
   ]
  },
  {
   "cell_type": "code",
   "execution_count": 8,
   "metadata": {},
   "outputs": [
    {
     "name": "stdout",
     "output_type": "stream",
     "text": [
      "1.mat\n",
      "1303.mat\n",
      "1917.mat\n",
      "731.mat\n"
     ]
    },
    {
     "name": "stderr",
     "output_type": "stream",
     "text": [
      "C:\\Anaconda3\\envs\\tf\\lib\\site-packages\\ipykernel_launcher.py:10: MatplotlibDeprecationWarning: \n",
      "The 'normed' kwarg was deprecated in Matplotlib 2.1 and will be removed in 3.1. Use 'density' instead.\n",
      "  # Remove the CWD from sys.path while we load stuff.\n"
     ]
    },
    {
     "name": "stdout",
     "output_type": "stream",
     "text": [
      "[38, 38, 60, 134]\n"
     ]
    },
    {
     "data": {
      "image/png": "[encoded data removed]",
      "text/plain": [
       "<Figure size 432x288 with 1 Axes>"
      ]
     },
     "metadata": {
      "needs_background": "light"
     },
     "output_type": "display_data"
    }
   ],
   "source": [
    "for root, dirs, files in os.walk(evaldirpath):\n",
    "    for filename in files:\n",
    "            evalfilecount+=1\n",
    "            evalfilenames.append(filename)\n",
    "            \n",
    "for i in range(evalfilecount):\n",
    "    process_eval_matfile(i,evalfilenames[i])\n",
    "\n",
    "%matplotlib inline\n",
    "plot.hist(evalmaxpoints, normed=True, bins=30)\n",
    "plot.ylabel('maxpoints');\n",
    "print(evalmaxpoints)"
   ]
  },
  {
   "cell_type": "code",
   "execution_count": 9,
   "metadata": {},
   "outputs": [
    {
     "name": "stdout",
     "output_type": "stream",
     "text": [
      "(512, 512)\n",
      "(12, 512, 512)\n",
      "(12, 512, 512, 1)\n"
     ]
    }
   ],
   "source": [
    "print(trainimagelist[0].shape)\n",
    "trainfullimagearray = np.array(trainimagelist)\n",
    "print(trainfullimagearray.shape)\n",
    "reshapedtrainimagearray = trainfullimagearray.reshape(trainfilecount,512,512,1)\n",
    "#print(reshapedtrainarray)\n",
    "print(reshapedtrainimagearray.shape)"
   ]
  },
  {
   "cell_type": "code",
   "execution_count": 10,
   "metadata": {},
   "outputs": [
    {
     "name": "stdout",
     "output_type": "stream",
     "text": [
      "(512, 512)\n",
      "(4, 512, 512)\n",
      "(4, 512, 512, 1)\n"
     ]
    }
   ],
   "source": [
    "print(evalimagelist[0].shape)\n",
    "evalfullimagearray = np.array(evalimagelist)\n",
    "print(evalfullimagearray.shape)\n",
    "reshapedevalimagearray = evalfullimagearray.reshape(evalfilecount,512,512,1)\n",
    "#print(reshapedtrainarray)\n",
    "print(reshapedevalimagearray.shape)\n"
   ]
  },
  {
   "cell_type": "code",
   "execution_count": 11,
   "metadata": {},
   "outputs": [
    {
     "name": "stdout",
     "output_type": "stream",
     "text": [
      "(1, 1)\n",
      "(12, 1, 1)\n",
      "[3. 3. 2. 2. 2. 2. 2. 2. 1. 1. 1. 2.]\n",
      "(12,)\n"
     ]
    }
   ],
   "source": [
    "print(trainlabellist[0].shape)\n",
    "trainfulllabelarray = np.array(trainlabellist)\n",
    "print(trainfulllabelarray.shape)\n",
    "reshapedtrainlabelarray = trainfulllabelarray.reshape(trainfilecount)\n",
    "print(reshapedtrainlabelarray)\n",
    "print(reshapedtrainlabelarray.shape)"
   ]
  },
  {
   "cell_type": "code",
   "execution_count": 12,
   "metadata": {},
   "outputs": [
    {
     "name": "stdout",
     "output_type": "stream",
     "text": [
      "(1, 1)\n",
      "(12, 1, 1)\n",
      "[1. 3. 2. 2.]\n",
      "(4,)\n"
     ]
    }
   ],
   "source": [
    "print(evallabellist[0].shape)\n",
    "evalfulllabelarray = np.array(evallabellist)\n",
    "print(trainfulllabelarray.shape)\n",
    "reshapedevallabelarray = evalfulllabelarray.reshape(evalfilecount)\n",
    "print(reshapedevallabelarray)\n",
    "print(reshapedevallabelarray.shape)"
   ]
  },
  {
   "cell_type": "code",
   "execution_count": 13,
   "metadata": {},
   "outputs": [
    {
     "name": "stdout",
     "output_type": "stream",
     "text": [
      "[3. 3. 2. 2. 2. 2. 2. 2. 1. 1. 1. 2.]\n",
      "12\n",
      "[3 3 2 2 2 2 2 2 1 1 1 2]\n",
      "[[0. 0. 1.]\n",
      " [0. 0. 1.]\n",
      " [0. 1. 0.]\n",
      " [0. 1. 0.]\n",
      " [0. 1. 0.]\n",
      " [0. 1. 0.]\n",
      " [0. 1. 0.]\n",
      " [0. 1. 0.]\n",
      " [1. 0. 0.]\n",
      " [1. 0. 0.]\n",
      " [1. 0. 0.]\n",
      " [0. 1. 0.]]\n"
     ]
    }
   ],
   "source": [
    "\n",
    "print(reshapedtrainlabelarray.ravel())\n",
    "#one hot train set label\n",
    "num_labels = reshapedtrainlabelarray.shape[0]\n",
    "print(num_labels)\n",
    "reshapedtrainlabelarrayintegerlist = reshapedtrainlabelarray.astype(int)\n",
    "reshapedtrainlabelarrayinteger = np.array(reshapedtrainlabelarrayintegerlist)\n",
    "print(reshapedtrainlabelarrayinteger)\n",
    "trainlabelsonehot = np.eye(NCLASSES)[reshapedtrainlabelarrayinteger-1]\n",
    "print(trainlabelsonehot)"
   ]
  },
  {
   "cell_type": "code",
   "execution_count": 14,
   "metadata": {},
   "outputs": [
    {
     "name": "stdout",
     "output_type": "stream",
     "text": [
      "[1. 3. 2. 2.]\n",
      "4\n",
      "[1 3 2 2]\n",
      "[[1. 0. 0.]\n",
      " [0. 0. 1.]\n",
      " [0. 1. 0.]\n",
      " [0. 1. 0.]]\n"
     ]
    }
   ],
   "source": [
    "\n",
    "print(reshapedevallabelarray.ravel())\n",
    "#one hot train set label\n",
    "num_labels = reshapedevallabelarray.shape[0]\n",
    "print(num_labels)\n",
    "reshapedevallabelarrayintegerlist = reshapedevallabelarray.astype(int) \n",
    "reshapedevallabelarrayinteger = np.array(reshapedevallabelarrayintegerlist)\n",
    "print(reshapedevallabelarrayinteger)\n",
    "evallabelsonehot = np.eye(NCLASSES)[reshapedevallabelarrayinteger-1]\n",
    "print(evallabelsonehot)\n",
    "\n"
   ]
  },
  {
   "cell_type": "code",
   "execution_count": null,
   "metadata": {},
   "outputs": [],
   "source": [
    "\"\"\"\n",
    "from matplotlib import image\n",
    "from matplotlib import pyplot\n",
    "# load image as pixel array\n",
    "data = trainimagelist[0]\n",
    "# summarize shape of the pixel array\n",
    "print(data.dtype)\n",
    "print(data.shape)\n",
    "# display the array of pixels as an image\n",
    "pyplot.imshow(data)\n",
    "pyplot.show()\n",
    "\"\"\"\n",
    "        "
   ]
  },
  

{
   "cell_type": "code",
   "execution_count": 15,
   "metadata": {},
   "outputs": [],
   "source": [
    "def resnet_identity_block(X, f, filters, stage, block):\n",
    "    \"\"\"\n",
    "    Implementation of the identity block as defined in Figure 4\n",
    "    \n",
    "    Arguments:\n",
    "    X -- input tensor of shape (m, n_H_prev, n_W_prev, n_C_prev)\n",
    "    f -- integer, specifying the shape of the middle CONV's window for the main path\n",
    "    filters -- python list of integers, defining the number of filters in the CONV layers of the main path\n",
    "    stage -- integer, used to name the layers, depending on their position in the network\n",
    "    block -- string/character, used to name the layers, depending on their position in the network\n",
    "    \n",
    "    Returns:\n",
    "    X -- output of the identity block, tensor of shape (n_H, n_W, n_C)\n",
    "    \"\"\"\n",
    "    \n",
    "    # defining name basis\n",
    "    conv_name_base = 'res' + str(stage) + block + '_branch'\n",
    "    bn_name_base = 'bn' + str(stage) + block + '_branch'\n",
    "    \n",
    "    # Retrieve Filters\n",
    "    F1, F2, F3 = filters\n",
    "    print(\"in identity block\")\n",
    "    # Save the input value. You'll need this later to add back to the main path. \n",
    "    X_shortcut = X\n",
    "    print(X.shape)\n",
    "    # First component of main path\n",
    "    X = Conv2D(filters = F1, kernel_size = (1, 1), strides = (1,1), padding = 'valid', name = conv_name_base + '2a', kernel_initializer = glorot_uniform(seed=0))(X)\n",
    "    X = BatchNormalization(axis = 3, name = bn_name_base + '2a')(X)\n",
    "    X = Activation('relu')(X)\n",
    "    print(X.shape)\n",
    "    \n",
    "    ### START CODE HERE ###\n",
    "    \n",
    "    # Second component of main path (≈3 lines)\n",
    "    X = Conv2D(filters = F2, kernel_size = (f, f), strides = (1,1), padding = 'same', name = conv_name_base + '2b', \n",
    "               kernel_initializer = glorot_uniform(seed=0))(X)\n",
    "    X = BatchNormalization(axis = 3, name = bn_name_base + '2b')(X)\n",
    "    X = Activation('relu')(X)\n",
    "    print(X.shape)\n",
    "    # Third component of main path (≈2 lines)\n",
    "    X = Conv2D(filters = F3, kernel_size = (1, 1), strides = (1,1), padding = 'valid', name = conv_name_base + '2c', \n",
    "               kernel_initializer = glorot_uniform(seed=0))(X)\n",
    "    X = BatchNormalization(axis = 3, name = bn_name_base + '2c')(X)\n",
    "    print(X.shape)\n",
    "    # Final step: Add shortcut value to main path, and pass it through a RELU activation (≈2 lines)\n",
    "    X = Add()([X, X_shortcut])\n",
    "    print(X.shape)\n",
    "    X = Activation('relu')(X)\n",
    "    \n",
    "    ### END CODE HERE ###\n",
    "    \n",
    "    return X"
   ]
  },
  
{
   "cell_type": "code",
   "execution_count": null,
   "metadata": {},
   "outputs": [],
   "source": [
    " tf.compat.v1.reset_default_graph() \n",
    "    #tf.reset_default_graph()\n",
    "\n",
    "with tf.Session() as test:\n",
    "    np.random.seed(1)\n",
    "    A_prev = tf.placeholder(\"float\", [3, 4, 4, 6])\n",
    "    X = np.random.randn(3, 4, 4, 6)\n",
    "    A = resnet_identity_block(A_prev, f = 2, filters = [2, 4, 6], stage = 1, block = 'a')\n",
    "    test.run(tf.global_variables_initializer())\n",
    "    out = test.run([A], feed_dict={A_prev: X, K.learning_phase(): 0})\n",
    "    print(\"out = \" + str(out[0][1][1][0]))"
   ]
  },
  
{
   "cell_type": "code",
   "execution_count": 16,
   "metadata": {},
   "outputs": [],
   "source": [
    "def resnet_convolutional_block(X, f, filters, stage, block, s = 2):\n",
    "    \"\"\"\n",
    "    Implementation of the convolutional block as defined in Figure 4\n",
    "    \n",
    "    Arguments:\n",
    "    X -- input tensor of shape (m, n_H_prev, n_W_prev, n_C_prev)\n",
    "    f -- integer, specifying the shape of the middle CONV's window for the main path\n",
    "    filters -- python list of integers, defining the number of filters in the CONV layers of the main path\n",
    "    stage -- integer, used to name the layers, depending on their position in the network\n",
    "    block -- string/character, used to name the layers, depending on their position in the network\n",
    "    s -- Integer, specifying the stride to be used\n",
    "    \n",
    "    Returns:\n",
    "    X -- output of the convolutional block, tensor of shape (n_H, n_W, n_C)\n",
    "    \"\"\"\n",
    "    \n",
    "    # defining name basis\n",
    "    conv_name_base = 'res' + str(stage) + block + '_branch'\n",
    "    bn_name_base = 'bn' + str(stage) + block + '_branch'\n",
    "    \n",
    "    # Retrieve Filters\n",
    "    F1, F2, F3 = filters\n",
    "    \n",
    "    # Save the input value\n",
    "    X_shortcut = X\n",
    "    print(\"in conv block\")\n",
    "    print(X.shape)\n",
    "\n",
    "    ##### MAIN PATH #####\n",
    "    # First component of main path \n",
    "    \n",
    "    X = Conv2D(filters = F1, kernel_size = (1, 1), strides = (s,s), padding = 'valid', name = conv_name_base + '2a', \n",
    "               kernel_initializer = glorot_uniform(seed=0))(X)\n",
    "    X = BatchNormalization(axis = 3, name = bn_name_base + '2a')(X)\n",
    "    X = Activation('relu')(X)\n",
    "    print(X.shape)\n",
    "    ### START CODE HERE ###\n",
    "\n",
    "    # Second component of main path (≈3 lines)\n",
    "    X = Conv2D(filters = F2, kernel_size = (f, f), strides = (1,1), padding = 'same', name = conv_name_base + '2b', \n",
    "               kernel_initializer = glorot_uniform(seed=0))(X)\n",
    "    X = BatchNormalization(axis = 3, name = bn_name_base + '2b')(X)\n",
    "    X = Activation('relu')(X)\n",
    "    print(X.shape)\n",
    "    # Third component of main path (≈2 lines)\n",
    "    X = Conv2D(filters = F3, kernel_size = (1, 1), strides = (1,1), padding = 'valid', name = conv_name_base + '2c', \n",
    "               kernel_initializer = glorot_uniform(seed=0))(X)\n",
    "    X = BatchNormalization(axis = 3, name = bn_name_base + '2c')(X)\n",
    "    print(X.shape)\n",
    "    \n",
    "\n",
    "    ##### SHORTCUT PATH #### (≈2 lines)\n",
    "    \n",
    "    X_shortcut = Conv2D(filters = F3, kernel_size = (1, 1), strides = (s,s), padding = 'valid', name = conv_name_base + '1',\n",
    "                        kernel_initializer = glorot_uniform(seed=0))(X_shortcut)\n",
    "    X_shortcut = BatchNormalization(axis = 3, name = bn_name_base + '1')(X_shortcut)\n",
    "    \n",
    "    \n",
    "\n",
    "    # Final step: Add shortcut value to main path, and pass it through a RELU activation (≈2 lines)\n",
    "    X = Add()([X, X_shortcut])\n",
    "    X = Activation('relu')(X)\n",
    "    print(X.shape)\n",
    "    ### END CODE HERE ###\n",
    "    \n",
    "    return X"
   ]
  },
  {
   "cell_type": "code",
   "execution_count": null,
   "metadata": {},
   "outputs": [],
   "source": [
    "tf.reset_default_graph()\n",
    "\n",
    "with tf.Session() as test:\n",
    "    np.random.seed(1)\n",
    "    A_prev = tf.placeholder(\"float\", [3, 4, 4, 6])\n",
    "    X = np.random.randn(3, 4, 4, 6)\n",
    "    A = resnet_convolutional_block(A_prev, f = 2, filters = [2, 4, 6], stage = 1, block = 'a')\n",
    "    test.run(tf.global_variables_initializer())\n",
    "    out = test.run([A], feed_dict={A_prev: X, K.learning_phase(): 0})\n",
    "    print(\"out = \" + str(out[0][1][1][0]))"
   ]
  },
  {
   "cell_type": "code",
   "execution_count": 17,
   "metadata": {},
   "outputs": [],
   "source": [
    "def ResNet50(input_shape = (512, 512, 1), classes = 3):\n",
    "    \"\"\"\n",
    "    Implementation of the popular ResNet50 the following architecture:\n",
    "    CONV2D -> BATCHNORM -> RELU -> MAXPOOL -> CONVBLOCK -> IDBLOCK*2 -> CONVBLOCK -> IDBLOCK*3\n",
    "    -> CONVBLOCK -> IDBLOCK*5 -> CONVBLOCK -> IDBLOCK*2 -> AVGPOOL -> TOPLAYER\n",
    "\n",
    "    Arguments:\n",
    "    input_shape -- shape of the images of the dataset\n",
    "    classes -- integer, number of classes\n",
    "\n",
    "    Returns:\n",
    "    model -- a Model() instance in Keras\n",
    "    \"\"\"\n",
    "    \n",
    "    # Define the input as a tensor with shape input_shape\n",
    "    X_input = Input(input_shape)\n",
    "\n",
    "    print(X_input.shape)\n",
    "    # Zero-Padding\n",
    "    X = ZeroPadding2D((3, 3))(X_input)\n",
    "    print(\"shape1:\")\n",
    "    print(X.shape)\n",
    "    # Stage 1\n",
    "    X = Conv2D(64, (7, 7), strides = (2, 2), name = 'conv1', kernel_initializer = glorot_uniform(seed=0))(X)\n",
    "    X = BatchNormalization(axis = 3, name = 'bn_conv1')(X)\n",
    "    X = Activation('relu')(X)\n",
    "    X = MaxPooling2D((3, 3), strides=(2, 2))(X)\n",
    "    print(\"shape2:\")\n",
    "    print(X.shape)\n",
    "    # Stage 2\n",
    "    X = resnet_convolutional_block(X, f = 3, filters = [64, 64, 256], stage = 2, block='a', s = 1)\n",
    "    X = resnet_identity_block(X, 3, [64, 64, 256], stage=2, block='b')\n",
    "    X = resnet_identity_block(X, 3, [64, 64, 256], stage=2, block='c')\n",
    "    \n",
    "    print(\"shape3:\")\n",
    "    print(X.shape)\n",
    "    ### START CODE HERE ###\n",
    "\n",
    "    # Stage 3 (≈4 lines)\n",
    "    \n",
    "    X = resnet_convolutional_block(X, f = 3, filters = [128, 128, 512], stage = 3, block='a', s = 2)\n",
    "    X = resnet_identity_block(X, 3, [128, 128, 512], stage=3, block='b')\n",
    "    X = resnet_identity_block(X, 3, [128, 128, 512], stage=3, block='c')\n",
    "    X = resnet_identity_block(X, 3, [128, 128, 512], stage=3, block='d')\n",
    "    \n",
    "    print(\"shape4:\")\n",
    "    print(X.shape)\n",
    "    # Stage 4 (≈6 lines)\n",
    "    X = resnet_convolutional_block(X, f = 3, filters = [256, 256, 1024], stage = 4, block='a', s = 2)\n",
    "    X = resnet_identity_block(X, 3, [256, 256, 1024], stage=4, block='b')\n",
    "    X = resnet_identity_block(X, 3, [256, 256, 1024], stage=4, block='c')\n",
    "    X = resnet_identity_block(X, 3, [256, 256, 1024], stage=4, block='d')\n",
    "    X = resnet_identity_block(X, 3, [256, 256, 1024], stage=4, block='e')\n",
    "    X = resnet_identity_block(X, 3, [256, 256, 1024], stage=4, block='f')\n",
    "    \n",
    "    print(\"shape5:\")\n",
    "    print(X.shape)\n",
    "    # Stage 5 (≈3 lines)\n",
    "    X = resnet_convolutional_block(X, f = 3, filters = [512, 512, 2048], stage = 5, block='a', s = 2)\n",
    "    X = resnet_identity_block(X, 3, [512, 512, 2048], stage=5, block='b')\n",
    "    X = resnet_identity_block(X, 3, [512, 512, 2048], stage=5, block='c')\n",
    "    print(\"shape6:\")\n",
    "    print(X.shape)\n",
    "\n",
    "    # AVGPOOL (≈1 line). Use \"X = AveragePooling2D(...)(X)\"\n",
    "    X = AveragePooling2D((2, 2))(X)\n",
    "    \n",
    "    ### END CODE HERE ###\n",
    "    print(\"shape7:\")\n",
    "    print(X.shape)\n",
    "    \n",
    "    # output layer\n",
    "    X = Flatten()(X)\n",
    "    X = Dense(classes, activation='softmax', name='fc' + str(classes), kernel_initializer = glorot_uniform(seed=0))(X)\n",
    "    \n",
    "    print(\"shape8:\")\n",
    "    print(X.shape)\n",
    "    \n",
    "    # Create model\n",
    "    model = Model(inputs = X_input, outputs = X, name='ResNetFifty')\n",
    "\n",
    "    return model"
   ]
  },
  {
   "cell_type": "code",
   "execution_count": 18,
   "metadata": {},
   "outputs": [
    {
     "name": "stdout",
     "output_type": "stream",
     "text": [
      "(None, 512, 512, 1)\n",
      "shape1:\n",
      "(None, 518, 518, 1)\n",
      "shape2:\n",
      "(None, 127, 127, 64)\n",
      "in conv block\n",
      "(None, 127, 127, 64)\n",
      "(None, 127, 127, 64)\n",
      "(None, 127, 127, 64)\n",
      "(None, 127, 127, 256)\n",
      "(None, 127, 127, 256)\n",
      "in identity block\n",
      "(None, 127, 127, 256)\n",
      "(None, 127, 127, 64)\n",
      "(None, 127, 127, 64)\n",
      "(None, 127, 127, 256)\n",
      "(None, 127, 127, 256)\n",
      "in identity block\n",
      "(None, 127, 127, 256)\n",
      "(None, 127, 127, 64)\n",
      "(None, 127, 127, 64)\n",
      "(None, 127, 127, 256)\n",
      "(None, 127, 127, 256)\n",
      "shape3:\n",
      "(None, 127, 127, 256)\n",
      "in conv block\n",
      "(None, 127, 127, 256)\n",
      "(None, 64, 64, 128)\n",
      "(None, 64, 64, 128)\n",
      "(None, 64, 64, 512)\n",
      "(None, 64, 64, 512)\n",
      "in identity block\n",
      "(None, 64, 64, 512)\n",
      "(None, 64, 64, 128)\n",
      "(None, 64, 64, 128)\n",
      "(None, 64, 64, 512)\n",
      "(None, 64, 64, 512)\n",
      "in identity block\n",
      "(None, 64, 64, 512)\n",
      "(None, 64, 64, 128)\n",
      "(None, 64, 64, 128)\n",
      "(None, 64, 64, 512)\n",
      "(None, 64, 64, 512)\n",
      "in identity block\n",
      "(None, 64, 64, 512)\n",
      "(None, 64, 64, 128)\n",
      "(None, 64, 64, 128)\n",
      "(None, 64, 64, 512)\n",
      "(None, 64, 64, 512)\n",
      "shape4:\n",
      "(None, 64, 64, 512)\n",
      "in conv block\n",
      "(None, 64, 64, 512)\n",
      "(None, 32, 32, 256)\n",
      "(None, 32, 32, 256)\n",
      "(None, 32, 32, 1024)\n",
      "(None, 32, 32, 1024)\n",
      "in identity block\n",
      "(None, 32, 32, 1024)\n",
      "(None, 32, 32, 256)\n",
      "(None, 32, 32, 256)\n",
      "(None, 32, 32, 1024)\n",
      "(None, 32, 32, 1024)\n",
      "in identity block\n",
      "(None, 32, 32, 1024)\n",
      "(None, 32, 32, 256)\n",
      "(None, 32, 32, 256)\n",
      "(None, 32, 32, 1024)\n",
      "(None, 32, 32, 1024)\n",
      "in identity block\n",
      "(None, 32, 32, 1024)\n",
      "(None, 32, 32, 256)\n",
      "(None, 32, 32, 256)\n",
      "(None, 32, 32, 1024)\n",
      "(None, 32, 32, 1024)\n",
      "in identity block\n",
      "(None, 32, 32, 1024)\n",
      "(None, 32, 32, 256)\n",
      "(None, 32, 32, 256)\n",
      "(None, 32, 32, 1024)\n",
      "(None, 32, 32, 1024)\n",
      "in identity block\n",
      "(None, 32, 32, 1024)\n",
      "(None, 32, 32, 256)\n",
      "(None, 32, 32, 256)\n",
      "(None, 32, 32, 1024)\n",
      "(None, 32, 32, 1024)\n",
      "shape5:\n",
      "(None, 32, 32, 1024)\n",
      "in conv block\n",
      "(None, 32, 32, 1024)\n",
      "(None, 16, 16, 512)\n",
      "(None, 16, 16, 512)\n",
      "(None, 16, 16, 2048)\n",
      "(None, 16, 16, 2048)\n",
      "in identity block\n",
      "(None, 16, 16, 2048)\n",
      "(None, 16, 16, 512)\n",
      "(None, 16, 16, 512)\n",
      "(None, 16, 16, 2048)\n",
      "(None, 16, 16, 2048)\n",
      "in identity block\n",
      "(None, 16, 16, 2048)\n",
      "(None, 16, 16, 512)\n",
      "(None, 16, 16, 512)\n",
      "(None, 16, 16, 2048)\n",
      "(None, 16, 16, 2048)\n",
      "shape6:\n",
      "(None, 16, 16, 2048)\n",
      "shape7:\n",
      "(None, 8, 8, 2048)\n",
      "shape8:\n",
      "(None, 3)\n"
     ]
    }
   ],
   "source": [
    "model = ResNet50(input_shape = (512, 512, 1), classes = 3)"
   ]
  },
  {
   "cell_type": "code",
   "execution_count": 19,
   "metadata": {},
   "outputs": [],
   "source": [
    "model.compile(optimizer='adam', loss='categorical_crossentropy', metrics=['accuracy'])"
   ]
  },
  {
   "cell_type": "code",
   "execution_count": 20,
   "metadata": {},
   "outputs": [
    {
     "name": "stdout",
     "output_type": "stream",
     "text": [
      "number of training examples = 12\n",
      "number of test examples = 4\n",
      "X_train shape: (12, 512, 512, 1)\n",
      "Y_train shape: (12, 3)\n",
      "X_test shape: (4, 512, 512, 1)\n",
      "Y_test shape: (4, 3)\n"
     ]
    }
   ],
   "source": [
    "#X_train_orig, Y_train_orig, X_test_orig, Y_test_orig, classes = load_dataset()\n",
    "\n",
    "reshapedtrainimagearray, reshapedevalimagearray, trainlabelsonehot, evallabelsonehot\n",
    "# Normalize image vectors\n",
    "X_train = reshapedtrainimagearray/255.\n",
    "X_test = reshapedevalimagearray/255.\n",
    "\n",
    "# Convert training and test labels to one hot matrices\n",
    "Y_train = trainlabelsonehot #convert_to_one_hot(Y_train_orig, 6).T\n",
    "Y_test = evallabelsonehot #convert_to_one_hot(Y_test_orig, 6).T\n",
    "\n",
    "print (\"number of training examples = \" + str(X_train.shape[0]))\n",
    "print (\"number of test examples = \" + str(X_test.shape[0]))\n",
    "print (\"X_train shape: \" + str(X_train.shape))\n",
    "print (\"Y_train shape: \" + str(Y_train.shape))\n",
    "print (\"X_test shape: \" + str(X_test.shape))\n",
    "print (\"Y_test shape: \" + str(Y_test.shape))"
   ]
  },
  {
   "cell_type": "code",
   "execution_count": 21,
   "metadata": {},
   "outputs": [
    {
     "name": "stdout",
     "output_type": "stream",
     "text": [
      "Train on 12 samples\n",
      "Epoch 1/3\n",
      "12/12 [==============================] - 267s 22s/sample - loss: 59.2798 - accuracy: 0.5000\n",
      "Epoch 2/3\n",
      "12/12 [==============================] - 185s 15s/sample - loss: 18.6736 - accuracy: 0.4167\n",
      "Epoch 3/3\n",
      "12/12 [==============================] - 183s 15s/sample - loss: 21.5662 - accuracy: 0.5000\n"
     ]
    },
    {
     "data": {
      "text/plain": [
       "<tensorflow.python.keras.callbacks.History at 0x1f9e8727f88>"
      ]
     },
     "execution_count": 21,
     "metadata": {},
     "output_type": "execute_result"
    }
   ],
   "source": [
    "model.fit(X_train, Y_train, epochs = 3, batch_size = 2)"
   ]
  },
  {
   "cell_type": "code",
   "execution_count": 22,
   "metadata": {},
   "outputs": [
    {
     "name": "stdout",
     "output_type": "stream",
     "text": [
      "4/1 [========================================================================================================================] - 117s 29s/sample - loss: 243054.7812 - accuracy: 0.5000\n",
      "Loss = 243054.78125\n",
      "Test Accuracy = 0.5\n"
     ]
    }
   ],
   "source": [
    "preds = model.evaluate(X_test, Y_test)\n",
    "print (\"Loss = \" + str(preds[0]))\n",
    "print (\"Test Accuracy = \" + str(preds[1]))"
   ]
  },
  {
   "cell_type": "code",
   "execution_count": null,
   "metadata": {},
   "outputs": [],
   "source": []
  },
  {
   "cell_type": "code",
   "execution_count": null,
   "metadata": {},
   "outputs": [],
   "source": []
  },
  {
   "cell_type": "code",
   "execution_count": null,
   "metadata": {},
   "outputs": [],
   "source": []
  },
  {
   "cell_type": "code",
   "execution_count": null,
   "metadata": {},
   "outputs": [],
   "source": [
    "def cnn_model(img, mode, hparams):\n",
    "    ksize1 = hparams.get(\"ksize1\", 5)\n",
    "    ksize2 = hparams.get(\"ksize2\", 5)\n",
    "    nfil1 = hparams.get(\"nfil1\", 10)\n",
    "    nfil2 = hparams.get(\"nfil2\", 20)\n",
    "    dprob = hparams.get(\"dprob\", 0.25)\n",
    "\n",
    "    c0 = tf.layers.conv2d(inputs = img, filters = nfil1,\n",
    "                          kernel_size = ksize1, strides = 1,\n",
    "                          padding = \"same\", activation = tf.nn.relu) # shape = (batch_size, HEIGHT, WIDTH, nfil1)\n",
    "    \n",
    "    p0 = tf.layers.max_pooling2d(inputs = c0, pool_size = 2, strides = 2) # shape = (batch_size, HEIGHT // 2, WIDTH // 2, nfil1)\n",
    "    \n",
    "    c1 = tf.layers.conv2d(inputs = p0, filters = nfil1,\n",
    "                          kernel_size = ksize1, strides = 1,\n",
    "                          padding = \"same\", activation = tf.nn.relu) # shape = (batch_size, HEIGHT, WIDTH, nfil1)\n",
    "    \n",
    "    p1 = tf.layers.max_pooling2d(inputs = c1, pool_size = 2, strides = 2) # shape = (batch_size, HEIGHT // 2, WIDTH // 2, nfil1)\n",
    "    \n",
    "    c2 = tf.layers.conv2d(inputs = p1, filters = nfil2,\n",
    "                          kernel_size = ksize2, strides = 1, \n",
    "                          padding = \"same\", activation = tf.nn.relu) # shape = (batch_size, HEIGHT // 2, WIDTH // 2, nfil2)\n",
    "    \n",
    "    p2 = tf.layers.max_pooling2d(inputs = c2, pool_size = 2, strides = 2) # shape = (batch_size, HEIGHT // 4, WIDTH // 4, nfil2)\n",
    "\n",
    "    outlen = p2.shape[1] * p2.shape[2] * p2.shape[3] # HEIGHT // 4 * WIDTH // 4 * nfil2\n",
    "    p2flat = tf.reshape(tensor = p2, shape = [-1, outlen]) # shape = (batch_size, HEIGHT // 4 * WIDTH // 4 * nfil2)\n",
    "\n",
    "    # Apply batch normalization\n",
    "    if hparams[\"batch_norm\"]:\n",
    "        h3 = tf.layers.dense(inputs = p2flat, units = 400, activation = None)\n",
    "        h3 = tf.layers.batch_normalization(inputs = h3, training = (mode == tf.estimator.ModeKeys.TRAIN)) # only batchnorm when training\n",
    "        h3 = tf.nn.relu(features = h3)\n",
    "    else:  \n",
    "        h3 = tf.layers.dense(inputs = p2flat, units = 400, activation = tf.nn.relu)\n",
    "  \n",
    "    # Apply dropout\n",
    "    h3d = tf.layers.dropout(inputs = h3, rate = dprob, training = (mode == tf.estimator.ModeKeys.TRAIN))\n",
    "\n",
    "    ylogits = tf.layers.dense(inputs = h3d, units = NCLASSES, activation = None)\n",
    "  \n",
    "    # Apply batch normalization once more\n",
    "    if hparams[\"batch_norm\"]:\n",
    "        ylogits = tf.layers.batch_normalization(inputs = ylogits, training = (mode == tf.estimator.ModeKeys.TRAIN))\n",
    "\n",
    "    return ylogits, NCLASSES\n",
    "\n"
   ]
  },
  {
   "cell_type": "code",
   "execution_count": null,
   "metadata": {},
   "outputs": [],
   "source": [
    "def serving_input_fn():\n",
    "    # Input will be rank 3\n",
    "    feature_placeholders = {\"image\": tf.placeholder(dtype = tf.float32, shape = [None, HEIGHT, WIDTH])}\n",
    "    # But model function requires rank 4\n",
    "    features = {\"image\": tf.expand_dims(input = feature_placeholders[\"image\"], axis = -1)} \n",
    "    return tf.estimator.export.ServingInputReceiver(features = features, receiver_tensors = feature_placeholders)"
   ]
  },
  {
   "cell_type": "code",
   "execution_count": null,
   "metadata": {},
   "outputs": [],
   "source": [
    "def image_classifier(features, labels, mode, params):\n",
    "        \n",
    "    ylogits, nclasses = cnn_model(features[\"image\"], mode, params)\n",
    "\n",
    "    probabilities = tf.nn.softmax(logits = ylogits)\n",
    "    class_ids = tf.cast(x = tf.argmax(input = probabilities, axis = 1), dtype = tf.uint8)\n",
    "    \n",
    "    if mode == tf.estimator.ModeKeys.TRAIN or mode == tf.estimator.ModeKeys.EVAL:\n",
    "        loss = tf.reduce_mean(input_tensor = tf.nn.softmax_cross_entropy_with_logits_v2(logits = ylogits, labels = labels))\n",
    "        \n",
    "        if mode == tf.estimator.ModeKeys.TRAIN:\n",
    "            # This is needed for batch normalization, but has no effect otherwise\n",
    "            update_ops = tf.get_collection(tf.GraphKeys.UPDATE_OPS)\n",
    "            with tf.control_dependencies(update_ops):\n",
    "                train_op = tf.contrib.layers.optimize_loss(\n",
    "                    loss = loss, \n",
    "                    global_step = tf.train.get_global_step(),\n",
    "                    learning_rate = params[\"learning_rate\"], \n",
    "                    optimizer = \"Adam\")\n",
    "            eval_metric_ops = None\n",
    "        else:\n",
    "            train_op = None\n",
    "            eval_metric_ops =  {\"accuracy\": tf.metrics.accuracy(labels = tf.argmax(input = labels, axis = 1), predictions = class_ids)}\n",
    "    else:\n",
    "        loss = None\n",
    "        train_op = None\n",
    "        eval_metric_ops = None\n",
    " \n",
    "    return tf.estimator.EstimatorSpec(\n",
    "        mode = mode,\n",
    "        predictions = {\"probabilities\": probabilities, \"class_ids\": class_ids},\n",
    "        loss = loss,\n",
    "        train_op = train_op,\n",
    "        eval_metric_ops = eval_metric_ops,\n",
    "        export_outputs = {\"predictions\":tf.estimator.export.PredictOutput({\"probabilities\": probabilities, \"class_ids\": class_ids})}\n",
    "    )\n"
   ]
  },
  {
   "cell_type": "code",
   "execution_count": null,
   "metadata": {},
   "outputs": [],
   "source": [
    "def train_and_evaluate(output_dir, hparams):\n",
    "    #tf.summary.FileWriterCache.clear() # ensure filewriter cache is clear for TensorBoard events file\n",
    "    \n",
    "    EVAL_INTERVAL = 60\n",
    "    \n",
    "    train_input_fn = tf.compat.v1.estimator.inputs.numpy_input_fn(\n",
    "        x = {\"image\": reshapedtrainimagearray},\n",
    "        y = trainlabelsonehot,\n",
    "        batch_size = 2,\n",
    "        num_epochs = None,\n",
    "        shuffle = True,\n",
    "        queue_capacity = 5000\n",
    "    )\n",
    "\n",
    "    eval_input_fn = tf.compat.v1.estimator.inputs.numpy_input_fn(\n",
    "        x = {\"image\": reshapedevalimagearray},\n",
    "        y = evallabelsonehot,\n",
    "        batch_size = 2,\n",
    "        num_epochs = 1,\n",
    "        shuffle = False,\n",
    "        queue_capacity = 5000\n",
    "    )\n",
    "\n",
    "    estimator = tf.estimator.Estimator(\n",
    "        model_fn = image_classifier,\n",
    "        model_dir = output_dir,\n",
    "        params = hparams)\n",
    "\n",
    "    train_spec = tf.estimator.TrainSpec(\n",
    "        input_fn = train_input_fn,\n",
    "        max_steps = hparams[\"train_steps\"])\n",
    "\n",
    "    exporter = tf.estimator.LatestExporter(name = \"exporter\", serving_input_receiver_fn = serving_input_fn)\n",
    "\n",
    "    eval_spec = tf.estimator.EvalSpec(\n",
    "        input_fn = eval_input_fn,\n",
    "        steps = None,\n",
    "        exporters = exporter)\n",
    "\n",
    "    tf.estimator.train_and_evaluate(estimator = estimator, train_spec = train_spec, eval_spec = eval_spec)"
   ]
  },
  {
   "cell_type": "code",
   "execution_count": null,
   "metadata": {},
   "outputs": [],
   "source": [
    "\n",
    "#train_and_evaluate(outputdirpath, hparams)"
   ]
  },
  {
   "cell_type": "code",
   "execution_count": null,
   "metadata": {},
   "outputs": [],
   "source": []
  }
 ],
 "metadata": {
  "kernelspec": {
   "display_name": "Python 3",
   "language": "python",
   "name": "python3"
  },
  "language_info": {
   "codemirror_mode": {
    "name": "ipython",
    "version": 3
   },
   "file_extension": ".py",
   "mimetype": "text/x-python",
   "name": "python",
   "nbconvert_exporter": "python",
   "pygments_lexer": "ipython3",
   "version": "3.7.5"
  }
 },
 "nbformat": 4,
 "nbformat_minor": 2
}
